{
 "cells": [
  {
   "cell_type": "code",
   "execution_count": 1,
   "metadata": {},
   "outputs": [
    {
     "name": "stdout",
     "output_type": "stream",
     "text": [
      "/home/alce/src/subjectivity\n",
      "INFO:tensorflow:Restoring parameters from ./data/save/subj-29.tf\n"
     ]
    }
   ],
   "source": [
    "%cd ../../\n",
    "from subjectivity.subjectivity_classifier import SubjectivityClassifier\n",
    "classifier = SubjectivityClassifier(model_filename='./data/save/subj-29.tf',\n",
    "                                    word_filename='./data/word_embeddings/glove.6B.50d.txt')"
   ]
  },
  {
   "cell_type": "code",
   "execution_count": 2,
   "metadata": {},
   "outputs": [],
   "source": [
    "def count_sentences_in_dict_attribute(d, attribute):\n",
    "    return len(d[attribute])"
   ]
  },
  {
   "cell_type": "code",
   "execution_count": 3,
   "metadata": {},
   "outputs": [],
   "source": [
    "import os\n",
    "path = './data/MPQA_files/'\n",
    "files = [f for f in os.listdir(path)]\n",
    "subjective_fraction_list = []\n",
    "for f in files:\n",
    "    with open(path + str(f)) as file:\n",
    "        text = file.read()\n",
    "        result = classifier.classify_sentences_in_text(text)\n",
    "        objective_sentences = count_sentences_in_dict_attribute(result, 'objective')\n",
    "        subjective_sentences = count_sentences_in_dict_attribute(result, 'subjective')\n",
    "        total_sentences = objective_sentences + objective_sentences\n",
    "        subjective_fraction_list.append(subjective_sentences / total_sentences)"
   ]
  },
  {
   "cell_type": "code",
   "execution_count": 5,
   "metadata": {},
   "outputs": [
    {
     "data": {
      "image/png": "[encoded data removed]",
      "text/plain": [
       "<Figure size 576x216 with 1 Axes>"
      ]
     },
     "metadata": {},
     "output_type": "display_data"
    }
   ],
   "source": [
    "import matplotlib.pyplot as plt\n",
    "import numpy as np\n",
    "hist, bins = np.histogram(subjective_fraction_list, bins=100, range=[0,1])\n",
    "center = (bins[:-1] + bins[1:]) / 2\n",
    "w = np.diff(bins)\n",
    "_, ax = plt.subplots(figsize=(8,3))\n",
    "ax.bar(center, hist, align='center', width=w)\n",
    "ax.set_xlabel('Fraction of subjective sentences')\n",
    "ax.set_ylabel('Number of documents')\n",
    "plt.show()\n"
   ]
  },
  {
   "cell_type": "code",
   "execution_count": null,
   "metadata": {},
   "outputs": [],
   "source": []
  }
 ],
 "metadata": {
  "kernelspec": {
   "display_name": "Python 3",
   "language": "python",
   "name": "python3"
  },
  "language_info": {
   "codemirror_mode": {
    "name": "ipython",
    "version": 3
   },
   "file_extension": ".py",
   "mimetype": "text/x-python",
   "name": "python",
   "nbconvert_exporter": "python",
   "pygments_lexer": "ipython3",
   "version": "3.5.2"
  }
 },
 "nbformat": 4,
 "nbformat_minor": 2
}
